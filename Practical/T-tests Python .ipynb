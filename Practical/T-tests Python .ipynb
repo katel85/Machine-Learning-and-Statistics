{
 "cells": [
  {
   "cell_type": "markdown",
   "id": "723f525a",
   "metadata": {},
   "source": [
    "T-test in Python Week 2 exercises"
   ]
  },
  {
   "cell_type": "code",
   "execution_count": null,
   "id": "80507b83",
   "metadata": {},
   "outputs": [],
   "source": [
    "#Packages Imported\n",
    "# Efficient numerical arrays.\n",
    "import numpy as np\n",
    "\n",
    "# Data frames.\n",
    "import pandas as pd\n",
    "\n",
    "# Alternative statistics package.\n",
    "import statsmodels.stats.weightstats as stat\n",
    "\n",
    "# Mains statistics package.\n",
    "import scipy.stats as scip\n",
    "\n",
    "# Plotting.\n",
    "import matplotlib.pyplot as plt\n",
    "\n",
    "# Fancier plotting.\n",
    "import seaborn as sns\n",
    "\n",
    "# Better sized plots.\n",
    "plt.rcParams['figure.figsize'] = (12, 8)\n",
    "\n",
    "# Nicer colours and styles for plots.\n",
    "plt.style.use(\"ggplot\")"
   ]
  },
  {
   "cell_type": "markdown",
   "id": "3fd8e088",
   "metadata": {},
   "source": [
    "# What exactly are you lookign at when you perform t-tests.\n",
    "\n",
    "What exactly is the t-test going to compare?-An independent samples t-test examines if 2 populations\n",
    "have equal means on some quantitative variable. The concept is testing wheter there is a significant difference between two independent populations. You must determine what your significance level will be. I.E level at which you conclude that you reject or do not reject the null hypothesis.\n",
    "\n",
    "\n",
    "**Assumptions**\n",
    "\n",
    "\n",
    "**independent observations.** This often holds if each row of data represents a different person.\n",
    "\n",
    "**Normality:** the dependent variable must follow a normal distribution in each subpopulation. This is not needed if both n ≥ 25 or so.\n",
    "\n",
    "**Homogeneity of variances:** both subpopulations must have equal variances on the dependent variable. This is not needed if both sample sizes are roughly equal.\n",
    "\n",
    "If sample sizes are not roughly equal, then **Levene's test** may be used to test if homogeneity is met. If that's not the case, then you should report adjusted results. \n",
    "\n",
    "Important: The t-test rejects or fails to reject the null hypothesis, never accepts it.\n",
    "\n"
   ]
  },
  {
   "cell_type": "code",
   "execution_count": null,
   "id": "701c9593",
   "metadata": {},
   "outputs": [],
   "source": []
  },
  {
   "cell_type": "code",
   "execution_count": null,
   "id": "f028a007",
   "metadata": {},
   "outputs": [],
   "source": []
  },
  {
   "cell_type": "code",
   "execution_count": null,
   "id": "74a6ea4e",
   "metadata": {},
   "outputs": [],
   "source": []
  },
  {
   "cell_type": "code",
   "execution_count": null,
   "id": "a61fb38b",
   "metadata": {},
   "outputs": [],
   "source": []
  },
  {
   "cell_type": "code",
   "execution_count": null,
   "id": "71626e09",
   "metadata": {},
   "outputs": [],
   "source": []
  },
  {
   "cell_type": "code",
   "execution_count": null,
   "id": "3b1c820c",
   "metadata": {},
   "outputs": [],
   "source": []
  },
  {
   "cell_type": "code",
   "execution_count": null,
   "id": "77b54bd0",
   "metadata": {},
   "outputs": [],
   "source": []
  },
  {
   "cell_type": "code",
   "execution_count": null,
   "id": "274d1f86",
   "metadata": {},
   "outputs": [],
   "source": []
  },
  {
   "cell_type": "code",
   "execution_count": null,
   "id": "4afb31d5",
   "metadata": {},
   "outputs": [],
   "source": []
  },
  {
   "cell_type": "markdown",
   "id": "0e8b1a67",
   "metadata": {},
   "source": [
    "### References\n",
    "https://www.youtube.com/watch?v=CIbJSX-biu0- Python for Data Analysis: Hypothesis Testing and T-Tests\n",
    "https://www.markdownguide.org/basic-syntax/\n",
    "https://www.youtube.com/watch?v=I10q6fjPxJ0- Statistics made easy ! ! ! Learn about the t-test, the chi square test, the p value and more"
   ]
  },
  {
   "cell_type": "code",
   "execution_count": null,
   "id": "7cedc175",
   "metadata": {},
   "outputs": [],
   "source": []
  },
  {
   "cell_type": "code",
   "execution_count": null,
   "id": "7b4431fa",
   "metadata": {},
   "outputs": [],
   "source": []
  },
  {
   "cell_type": "code",
   "execution_count": null,
   "id": "6dcd6042",
   "metadata": {},
   "outputs": [],
   "source": []
  },
  {
   "cell_type": "code",
   "execution_count": null,
   "id": "630d61e3",
   "metadata": {},
   "outputs": [],
   "source": []
  },
  {
   "cell_type": "code",
   "execution_count": null,
   "id": "9d723aec",
   "metadata": {},
   "outputs": [],
   "source": []
  },
  {
   "cell_type": "code",
   "execution_count": null,
   "id": "b6301bbb",
   "metadata": {},
   "outputs": [],
   "source": []
  }
 ],
 "metadata": {
  "kernelspec": {
   "display_name": "Python 3",
   "language": "python",
   "name": "python3"
  },
  "language_info": {
   "codemirror_mode": {
    "name": "ipython",
    "version": 3
   },
   "file_extension": ".py",
   "mimetype": "text/x-python",
   "name": "python",
   "nbconvert_exporter": "python",
   "pygments_lexer": "ipython3",
   "version": "3.8.8"
  }
 },
 "nbformat": 4,
 "nbformat_minor": 5
}
