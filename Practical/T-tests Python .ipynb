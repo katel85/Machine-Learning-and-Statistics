{
 "cells": [
  {
   "cell_type": "markdown",
   "id": "723f525a",
   "metadata": {},
   "source": [
    "T-test in Python Week 2 exercises"
   ]
  },
  {
   "cell_type": "code",
   "execution_count": 1,
   "id": "80507b83",
   "metadata": {},
   "outputs": [],
   "source": [
    "#Packages Imported\n",
    "# Efficient numerical arrays.\n",
    "import numpy as np\n",
    "\n",
    "# Data frames.\n",
    "import pandas as pd\n",
    "\n",
    "# Alternative statistics package.\n",
    "import statsmodels.stats.weightstats as stat\n",
    "\n",
    "# Mains statistics package.\n",
    "import scipy.stats as ss\n",
    "\n",
    "# Plotting.\n",
    "import matplotlib.pyplot as plt\n",
    "\n",
    "# Fancier plotting.\n",
    "import seaborn as sns\n",
    "\n",
    "# Better sized plots.\n",
    "plt.rcParams['figure.figsize'] = (12, 8)\n",
    "\n",
    "# Nicer colours and styles for plots.\n",
    "plt.style.use(\"ggplot\")"
   ]
  },
  {
   "cell_type": "markdown",
   "id": "3fd8e088",
   "metadata": {},
   "source": [
    "# What exactly are you lookign at when you perform t-tests.\n",
    "\n",
    "What exactly is the t-test going to compare?-An independent samples t-test examines if 2 populations\n",
    "have equal means on some quantitative variable. The concept is testing wheter there is a significant difference between two independent populations. You must determine what your significance level will be. I.E level at which you conclude that you reject or do not reject the null hypothesis.\n",
    "\n",
    "\n",
    "**Assumptions**\n",
    "\n",
    "\n",
    "**independent observations.** This often holds if each row of data represents a different person.\n",
    "\n",
    "**Normality:** the dependent variable must follow a normal distribution in each subpopulation. This is not needed if both n ≥ 25 or so.\n",
    "\n",
    "**Homogeneity of variances:** both subpopulations must have equal variances on the dependent variable. This is not needed if both sample sizes are roughly equal.\n",
    "\n",
    "If sample sizes are not roughly equal, then **Levene's test** may be used to test if homogeneity is met. If that's not the case, then you should report adjusted results. \n",
    "\n",
    "Important: The t-test rejects or fails to reject the null hypothesis, never accepts it. Ypu will always assume the null hypothesis is correct until you have enough evidence to reject the null hypothesis.\n",
    "\n",
    "Null hypothesis: no difference between groups.\n",
    "Alternative hypothesis:: there is a difference between the groups.\n",
    "\n",
    "\n",
    "### Type 1 Errors\n",
    "\n",
    "Incorrectly reject the null hypothesis. The researcher says there is a differenc ebetween groups when there really isn't. False poitive study result. This is also known as alpha error \n",
    "\n",
    "### Type 2 Error\n",
    "\n",
    "Incorrectly fail to reject the null hypothesis. This is the beta error. \n",
    "\n",
    "### p-value\n",
    "\n",
    "This is the probability if obtaining a result at least as extreme as the current one, assumping that the null hypothesis is true. The interpretation could be:\n",
    "\n",
    "Low p value --> reject null\n",
    "\n",
    "High p value --> fail to reject the null\n",
    "\n",
    "# Level of significance:#\n",
    "\n",
    "What level determiens whether the p value is low or high. That is where the level of significance or alpha comes in. Alpha is the probability of making a type 1 error or the probability of incorrectly rejecting the null hypothesis. It is a selected cutt off point that determines whether we consider a p-value acceptably or low.\n",
    "\n",
    "If the p value is < alpha. The value is statisically significant difference between groups.\n",
    "\n",
    "If the p value > than our significance level we conclude that the observed difference between groups is not statisically significant.\n",
    "\n",
    "Alpha is arbitraily defined as 5% or 0.05. Using a 5% alpha implies that having a 5% probability of incorrectly rejecting the null hypothesis is acceptable.\n",
    "\n",
    "Therefore:\n",
    "\n",
    "if p-value <0.05 --> statisical significant difference --> reject null hypothesis\n",
    "\n",
    "if p-value >0.05 --> no statiscal significance difference --> cannot reject the null hypothesis\n",
    "\n",
    "# Statistical Hypothesis Testing:#\n",
    "\n",
    "T-Test- compares 2 means\n",
    "\n",
    "Anova - compares > 2 means \n",
    "\n",
    "Chi-Squared - compares categorical variables.\n",
    "\n",
    "\n",
    "\n",
    "# Types of T-tests#\n",
    "\n",
    "A T-Test is only valid and should be done when means of only two categories or groups need to be compared. As soon as the number of comparisons to be made is more than two, conducting this test is not recommended.\n",
    "\n",
    "• One-sample is used to find out the mean or average of one group to compare it against the set average.\n",
    "\n",
    "• An independent Two-Sample test is conducted when samples from two different groups, species, or populations are studied and compared.\n",
    "\n",
    "• Paired Sample is the hypothesis testing conducted when two groups belong to the same population or group.\n",
    "\n",
    "• Equal Variance is conducted when the sample size in each group or population is the same, or the variance of the two data sets is similar.\n",
    "\n",
    "• Unequal Variance is used when the variance and the number of samples in each group are different.\n",
    "\n"
   ]
  },
  {
   "cell_type": "code",
   "execution_count": 2,
   "id": "701c9593",
   "metadata": {},
   "outputs": [
    {
     "data": {
      "text/html": [
       "<div>\n",
       "<style scoped>\n",
       "    .dataframe tbody tr th:only-of-type {\n",
       "        vertical-align: middle;\n",
       "    }\n",
       "\n",
       "    .dataframe tbody tr th {\n",
       "        vertical-align: top;\n",
       "    }\n",
       "\n",
       "    .dataframe thead th {\n",
       "        text-align: right;\n",
       "    }\n",
       "</style>\n",
       "<table border=\"1\" class=\"dataframe\">\n",
       "  <thead>\n",
       "    <tr style=\"text-align: right;\">\n",
       "      <th></th>\n",
       "      <th>Category</th>\n",
       "      <th>Value</th>\n",
       "    </tr>\n",
       "  </thead>\n",
       "  <tbody>\n",
       "    <tr>\n",
       "      <th>0</th>\n",
       "      <td>A</td>\n",
       "      <td>7.063968</td>\n",
       "    </tr>\n",
       "    <tr>\n",
       "      <th>1</th>\n",
       "      <td>A</td>\n",
       "      <td>7.857751</td>\n",
       "    </tr>\n",
       "    <tr>\n",
       "      <th>2</th>\n",
       "      <td>A</td>\n",
       "      <td>8.449157</td>\n",
       "    </tr>\n",
       "    <tr>\n",
       "      <th>3</th>\n",
       "      <td>A</td>\n",
       "      <td>6.799308</td>\n",
       "    </tr>\n",
       "    <tr>\n",
       "      <th>4</th>\n",
       "      <td>A</td>\n",
       "      <td>7.606760</td>\n",
       "    </tr>\n",
       "    <tr>\n",
       "      <th>...</th>\n",
       "      <td>...</td>\n",
       "      <td>...</td>\n",
       "    </tr>\n",
       "    <tr>\n",
       "      <th>95</th>\n",
       "      <td>B</td>\n",
       "      <td>8.624467</td>\n",
       "    </tr>\n",
       "    <tr>\n",
       "      <th>96</th>\n",
       "      <td>B</td>\n",
       "      <td>6.295473</td>\n",
       "    </tr>\n",
       "    <tr>\n",
       "      <th>97</th>\n",
       "      <td>B</td>\n",
       "      <td>7.293440</td>\n",
       "    </tr>\n",
       "    <tr>\n",
       "      <th>98</th>\n",
       "      <td>B</td>\n",
       "      <td>8.492281</td>\n",
       "    </tr>\n",
       "    <tr>\n",
       "      <th>99</th>\n",
       "      <td>B</td>\n",
       "      <td>8.641214</td>\n",
       "    </tr>\n",
       "  </tbody>\n",
       "</table>\n",
       "<p>100 rows × 2 columns</p>\n",
       "</div>"
      ],
      "text/plain": [
       "   Category     Value\n",
       "0         A  7.063968\n",
       "1         A  7.857751\n",
       "2         A  8.449157\n",
       "3         A  6.799308\n",
       "4         A  7.606760\n",
       "..      ...       ...\n",
       "95        B  8.624467\n",
       "96        B  6.295473\n",
       "97        B  7.293440\n",
       "98        B  8.492281\n",
       "99        B  8.641214\n",
       "\n",
       "[100 rows x 2 columns]"
      ]
     },
     "execution_count": 2,
     "metadata": {},
     "output_type": "execute_result"
    }
   ],
   "source": [
    "# Getting started with constructing and carrying out t-tests using python langauge and scipy.\n",
    "# create a dataset to use for the t-tests.\n",
    "\n",
    "#parameters for two different populations. These will be the mean and the standard deviation.\n",
    "\n",
    "meana,stda,meanb,stdb = 7.0,0.9,8.0,1.1\n",
    "\n",
    "# sample size\n",
    "\n",
    "N=50\n",
    "\n",
    "#create two lists of numbers based on bell-shaped probability curves using the numpy random module inported above\n",
    "a= np.random.normal( loc= meana, scale = stda, size = N)\n",
    "b = np.random.normal( loc= meanb, scale = stdb, size = N)\n",
    "\n",
    "#create datafram using both populations\n",
    "df = pd.DataFrame({'Category': ['A'] * len(a) + ['B'] * len(b), 'Value': np.hstack([a,b])})\n",
    "\n",
    "#look at the dataframe\n",
    "df\n"
   ]
  },
  {
   "cell_type": "code",
   "execution_count": 3,
   "id": "f028a007",
   "metadata": {},
   "outputs": [
    {
     "data": {
      "image/png": "[encoded data removed]",
      "text/plain": [
       "<Figure size 360x360 with 1 Axes>"
      ]
     },
     "metadata": {},
     "output_type": "display_data"
    }
   ],
   "source": [
    "# One type of plot available in seaborn.\n",
    "sns.catplot(x='Category', y='Value', jitter=False, data=df);"
   ]
  },
  {
   "cell_type": "markdown",
   "id": "e21ee82d-7da6-4423-a765-f93b30653ca7",
   "metadata": {},
   "source": [
    "#import plotly.plotly as py\n",
    "#https://plotly.com/python/v3/t-test/-T-Test in Python/v3\n",
    "import plotly.graph_objs as go\n",
    "from chart_studio.plotly import plot, iplot as py\n",
    "from plotly.tools import FigureFactory as FF\n",
    "#from _plotly_future_ import _chart_studio_error as py\n",
    "import numpy as np\n",
    "import pandas as pd\n",
    "import scipy\n",
    "from scipy import stats as ss"
   ]
  },
  {
   "cell_type": "markdown",
   "id": "23b91f6a-0fbe-4770-bf7d-1925078cc61e",
   "metadata": {},
   "source": [
    "data1 = np.random.normal(7, 0.9, size=50)\n",
    "data2 = np.random.normal(8, 1.1, size=50)\n",
    "\n",
    "x = np.linspace(-4, 4, 160)\n",
    "y1 = ss.norm.pdf(x)\n",
    "y2 = ss.norm.pdf(x, loc=2)\n",
    "\n",
    "\n",
    "\n",
    "trace1 = go.Scatter(\n",
    "    x = x,\n",
    "    y = y1,\n",
    "    mode = 'lines+markers',\n",
    "    name='Mean of 0'\n",
    ")\n",
    "\n",
    "trace2 = go.Scatter(\n",
    "    x = x,\n",
    "    y = y2,\n",
    "    mode = 'lines+markers',\n",
    "    name='Mean of 2'\n",
    ")\n",
    "\n",
    "data = [trace1, trace2]\n",
    "\n",
    "py.iplot(data, filename='normal-dists-plot')"
   ]
  },
  {
   "cell_type": "code",
   "execution_count": 4,
   "id": "71626e09",
   "metadata": {},
   "outputs": [
    {
     "name": "stdout",
     "output_type": "stream",
     "text": [
      "t-value: -2.894597712498434\tp-value: 0.0046801223576411755\n",
      "P_scipy: 0.00\n"
     ]
    }
   ],
   "source": [
    "# The scipy.stats version.\n",
    "t_ss, p_ss = ss.ttest_ind(a, b)\n",
    "print(f\"t-value: {t_ss}\\tp-value: {p_ss}\")\n",
    "print(f\"P_scipy: {p_ss:0.2f}\")"
   ]
  },
  {
   "cell_type": "code",
   "execution_count": 5,
   "id": "3b1c820c",
   "metadata": {},
   "outputs": [
    {
     "name": "stdout",
     "output_type": "stream",
     "text": [
      "t-value: -2.8945977124984394\tp-value: 0.004680122357641093\tDeg Free: 98.0\n",
      "P_statsmodels: 0.00\n"
     ]
    }
   ],
   "source": [
    "# The statsmodels version.\n",
    "t_sm, p_sm, d_sm = stat.ttest_ind(a, b)\n",
    "print(f\"t-value: {t_sm}\\tp-value: {p_sm}\\tDeg Free: {d_sm}\")\n",
    "print(f\"P_statsmodels: {p_sm:0.2f}\")"
   ]
  },
  {
   "cell_type": "code",
   "execution_count": 13,
   "id": "77b54bd0",
   "metadata": {},
   "outputs": [
    {
     "data": {
      "text/plain": [
       "-2.8945977124984337"
      ]
     },
     "execution_count": 13,
     "metadata": {},
     "output_type": "execute_result"
    }
   ],
   "source": [
    "#Calculate t statistic \"by hand\".\n",
    "# https://en.wikipedia.org/wiki/Test_statistic\n",
    "\n",
    "# Length of the arrays.\n",
    "n1 = len(a)\n",
    "n2 = len(b)\n",
    "\n",
    "# Means of the samples.\n",
    "m1 = np.sum(a) / n1\n",
    "m2 = np.sum(b) / n2\n",
    "\n",
    "# Sample standard deviations.\n",
    "s1 = np.sqrt(np.sum((a - m1)**2) / (n1 - 1))\n",
    "s2 = np.sqrt(np.sum((b - m2)**2) / (n2 - 1))\n",
    "\n",
    "df = n1 + n2 - 2\n",
    "sp2 = ((n1 - 1) * s1**2 + (n2 - 1) * s2**2) / df\n",
    "t = (m1 - m2) / (np.sqrt(sp2) * np.sqrt(1.0/n1 + 1.0/n2))\n",
    "\n",
    "t"
   ]
  },
  {
   "cell_type": "code",
   "execution_count": null,
   "id": "6aec1da8-425a-4de7-bd28-edc2c97c6c4c",
   "metadata": {},
   "outputs": [],
   "source": []
  },
  {
   "cell_type": "code",
   "execution_count": null,
   "id": "ea60f41f-9263-4edd-bade-566dd1c892df",
   "metadata": {},
   "outputs": [],
   "source": []
  },
  {
   "cell_type": "code",
   "execution_count": null,
   "id": "f22b76c2-c1f3-493b-a8d5-ade7fe3d5a3c",
   "metadata": {},
   "outputs": [],
   "source": []
  },
  {
   "cell_type": "code",
   "execution_count": null,
   "id": "579e1ec3-66a3-4e60-a8d1-6bd901a07daa",
   "metadata": {},
   "outputs": [],
   "source": []
  },
  {
   "cell_type": "code",
   "execution_count": null,
   "id": "416d8b02-2714-4576-9ba2-b07a4994178d",
   "metadata": {},
   "outputs": [],
   "source": []
  },
  {
   "cell_type": "code",
   "execution_count": 8,
   "id": "274d1f86",
   "metadata": {},
   "outputs": [
    {
     "data": {
      "image/png": "[encoded data removed]",
      "text/plain": [
       "<Figure size 720x432 with 1 Axes>"
      ]
     },
     "metadata": {},
     "output_type": "display_data"
    }
   ],
   "source": [
    "# Let's create a plot with the following x values.\n",
    "min_x = min(meana, meanb) - 5.0 * max(stda, stdb)\n",
    "max_x = max(meana, meanb) + 5.0 * max(stda, stdb)\n",
    "x = np.linspace(min_x, max_x, 1000)\n",
    "\n",
    "# We'll have plots of two different populations on one set of axes.\n",
    "# These are normal probability density functions.\n",
    "# See: https://en.wikipedia.org/wiki/Normal_distribution\n",
    "y_a = ss.norm.pdf(x, meana, stda)\n",
    "y_b = ss.norm.pdf(x, meanb, stdb)\n",
    "\n",
    "# Create and show the plot.\n",
    "fig, ax = plt.subplots(figsize=(10,6))\n",
    "ax.plot(x, y_a)\n",
    "ax.plot(x, y_b)\n",
    "plt.show()"
   ]
  },
  {
   "cell_type": "code",
   "execution_count": 14,
   "id": "288f1415-6bc4-4253-8ba8-692f3e4ab498",
   "metadata": {},
   "outputs": [
    {
     "data": {
      "image/png": "[encoded data removed]",
      "text/plain": [
       "<Figure size 720x432 with 1 Axes>"
      ]
     },
     "metadata": {},
     "output_type": "display_data"
    }
   ],
   "source": [
    "# Critical Value #\n",
    "\n",
    "# The critical probability value.\n",
    "critical = 0.05\n",
    "\n",
    "# Create the figure.\n",
    "fig, ax = plt.subplots(figsize=(10,6))\n",
    "\n",
    "# A range of x-values - these represent the t statistic.\n",
    "min_x = -5.0\n",
    "max_x = 5.0\n",
    "x = np.linspace(min_x, max_x, 1000)\n",
    "\n",
    "# The probability density function of the t statistic.\n",
    "# Here we use the degrees of freedom from above.\n",
    "t = ss.t.pdf(x, d_sm)\n",
    "# Plot it.\n",
    "ax.plot(x, t, color='red')\n",
    "\n",
    "# Get the tails.\n",
    "tf = pd.DataFrame({'x': x, 't': t})\n",
    "tcrit = abs(ss.t.ppf(critical / 2.0, d_sm))\n",
    "tail_one = tf[tf['x'] >= tcrit]\n",
    "tail_two = tf[tf['x'] <= -tcrit]\n",
    "# Plot them.\n",
    "ax.fill_between(tail_one['x'], tail_one['t'], 0, facecolor=\"red\")\n",
    "ax.fill_between(tail_two['x'], tail_two['t'], 0, facecolor=\"red\")\n",
    "\n",
    "plt.show()"
   ]
  },
  {
   "cell_type": "markdown",
   "id": "2722247e-14fe-418c-8a01-a48c1140ed9a",
   "metadata": {},
   "source": [
    "# Type 1 error #"
   ]
  },
  {
   "cell_type": "code",
   "execution_count": 15,
   "id": "e9a8dbf7-db6f-47db-9ab0-eb73e1538330",
   "metadata": {},
   "outputs": [
    {
     "name": "stdout",
     "output_type": "stream",
     "text": [
      "4.92%\n"
     ]
    }
   ],
   "source": [
    "# Let's run 10000 t-tests where the population means are equal.\n",
    "# We should make the wrong decision (reject the hypothesis) (100 * critical) percent of the time.\n",
    "\n",
    "# The number of trials to run.\n",
    "trials = 10000\n",
    "# The number of values in each sample.\n",
    "N = 100\n",
    "# Population 1 mean, population 2 mean, standard deviation in both.\n",
    "mean1, mean2, stddev = 2.0, 2.0, 0.3\n",
    "# Critical probability value.\n",
    "critical = 0.05\n",
    "\n",
    "# Running total of type I errors commited.\n",
    "rejects = 0\n",
    "\n",
    "# Loop throguh trials.\n",
    "for i in range(trials):\n",
    "    # Generate sample 1.\n",
    "    sample1 = np.random.normal(loc=mean1, scale=stddev, size=N)\n",
    "    # Generate sample 2.\n",
    "    sample2 = np.random.normal(loc=mean2, scale=stddev, size=N)\n",
    "    # Run the t-test.\n",
    "    t, p = ss.ttest_ind(sample1, sample2)\n",
    "    # If p is less than critical, reject.\n",
    "    if p <= critical:\n",
    "        rejects = rejects + 1\n",
    "\n",
    "# Print results.\n",
    "typei = 100.0 * (rejects / trials)\n",
    "print(f\"{typei:0.2f}%\")"
   ]
  },
  {
   "cell_type": "markdown",
   "id": "f15a2b98-12ed-4328-a594-65fb3a8a8b52",
   "metadata": {},
   "source": [
    "# Type II errors #\n",
    "\n",
    "Incorrectly fail to reject the null hypothesis. "
   ]
  },
  {
   "cell_type": "code",
   "execution_count": 17,
   "id": "140d213b-8ebd-4cb4-b1f9-77fab473aa3b",
   "metadata": {},
   "outputs": [
    {
     "name": "stdout",
     "output_type": "stream",
     "text": [
      "35.69%\n"
     ]
    }
   ],
   "source": [
    "#Let's run 10000 t-tests where the population means are NOT equal.\n",
    "# How often will we not reject the hypothesis?\n",
    "\n",
    "# The number of trials to run.\n",
    "trials = 10000\n",
    "# The number of values in each sample.\n",
    "N = 100\n",
    "# Population 1 mean, population 2 mean, standard deviation in both.\n",
    "mean1, mean2, stddev = 2.0, 2.1, 0.3\n",
    "# Critical probability value.\n",
    "critical = 0.05\n",
    "\n",
    "# Running total of type I errors commited.\n",
    "notrejects = 0\n",
    "\n",
    "# Loop throguh trials.\n",
    "for i in range(trials):\n",
    "    # Generate sample 1.\n",
    "    sample1 = np.random.normal(loc=mean1, scale=stddev, size=N)\n",
    "    # Generate sample 2.\n",
    "    sample2 = np.random.normal(loc=mean2, scale=stddev, size=N)\n",
    "    # Run the t-test.\n",
    "    t, p = ss.ttest_ind(sample1, sample2)\n",
    "    # If p is greater than critical, do not reject.\n",
    "    if p > critical:\n",
    "        notrejects = notrejects + 1\n",
    "\n",
    "# Print results.\n",
    "typeii = 100.0 * (notrejects / trials)\n",
    "print(f\"{typeii:0.2f}%\")"
   ]
  },
  {
   "cell_type": "code",
   "execution_count": 31,
   "id": "2afe1b78-1faa-48a9-8e5e-a180ee5b93d4",
   "metadata": {},
   "outputs": [
    {
     "data": {
      "text/plain": [
       "Ttest_indResult(statistic=-0.664108846106885, pvalue=0.5067741655938489)"
      ]
     },
     "execution_count": 31,
     "metadata": {},
     "output_type": "execute_result"
    }
   ],
   "source": [
    "from scipy import stats\n",
    "\n",
    "rng = np.random.default_rng(12345) # SET SEED FOR REPRODUCIBILITY\n",
    "\n",
    "rvs1 = stats.norm.rvs(loc=5, scale=10, size=500, random_state=rng)\n",
    "rvs2 = stats.norm.rvs(loc=5, scale=10, size=500, random_state=rng)\n",
    "stats.ttest_ind(rvs1, rvs2)\n",
    "stats.ttest_ind(rvs1, rvs2, equal_var=False)\n"
   ]
  },
  {
   "cell_type": "code",
   "execution_count": null,
   "id": "afcfd373-97df-4021-b562-e1b017089513",
   "metadata": {},
   "outputs": [],
   "source": []
  },
  {
   "cell_type": "code",
   "execution_count": null,
   "id": "f125f939-a02f-4c75-9e4f-5f77bc4aee3a",
   "metadata": {},
   "outputs": [],
   "source": []
  },
  {
   "cell_type": "code",
   "execution_count": null,
   "id": "e9793d85-471c-424e-b7c8-dfabaa4ff4f8",
   "metadata": {},
   "outputs": [],
   "source": []
  },
  {
   "cell_type": "code",
   "execution_count": null,
   "id": "e66f5fab-b4f7-4bc0-8641-c23189d23687",
   "metadata": {},
   "outputs": [],
   "source": []
  },
  {
   "cell_type": "code",
   "execution_count": null,
   "id": "42a0debb-369d-4908-8b04-df1b764e7de2",
   "metadata": {},
   "outputs": [],
   "source": []
  },
  {
   "cell_type": "code",
   "execution_count": null,
   "id": "f20bd78f-444b-4ebc-a231-be73e1316097",
   "metadata": {},
   "outputs": [],
   "source": []
  },
  {
   "cell_type": "code",
   "execution_count": null,
   "id": "7da3b6de-4eb8-40f4-8621-1711bf9cf2d9",
   "metadata": {},
   "outputs": [],
   "source": []
  },
  {
   "cell_type": "code",
   "execution_count": null,
   "id": "b702c4c1-35dd-4d18-8c35-77929ee4dfa0",
   "metadata": {},
   "outputs": [],
   "source": []
  },
  {
   "cell_type": "markdown",
   "id": "0e8b1a67",
   "metadata": {},
   "source": [
    "### References\n",
    "https://www.youtube.com/watch?v=CIbJSX-biu0- Python for Data Analysis: Hypothesis Testing and T-Tests\n",
    "\n",
    "https://www.markdownguide.org/basic-syntax/\n",
    "\n",
    "https://www.youtube.com/watch?v=I10q6fjPxJ0- Statistics made easy ! ! ! Learn about the t-test, the chi square test, the p value and more\n",
    "\n",
    "https://www.youtube.com/watch?v=YSwmpAmLV2s-  Null Hypothesis, p-Value, Statistical Significance, Type 1 Error and Type 2 Error\n",
    "\n",
    "https://www.wallstreetmojo.com/t-test/  T-Test Meaning\n",
    "\n",
    "https://numpy.org/doc/stable/reference/random/generated/numpy.random.Generator.random.html#numpy.random.Generator.random numpy.random.Generator.random\n",
    "\n",
    "https://plotly.com/python/v4-migration/ Version 4 Migration Guide in Python\n",
    "\n",
    "https://uc-r.github.io/t_test t-test: Comparing Group Means"
   ]
  },
  {
   "cell_type": "code",
   "execution_count": null,
   "id": "7cedc175",
   "metadata": {},
   "outputs": [],
   "source": []
  },
  {
   "cell_type": "code",
   "execution_count": null,
   "id": "7b4431fa",
   "metadata": {},
   "outputs": [],
   "source": []
  },
  {
   "cell_type": "code",
   "execution_count": null,
   "id": "6dcd6042",
   "metadata": {},
   "outputs": [],
   "source": []
  },
  {
   "cell_type": "code",
   "execution_count": null,
   "id": "630d61e3",
   "metadata": {},
   "outputs": [],
   "source": []
  },
  {
   "cell_type": "code",
   "execution_count": null,
   "id": "9d723aec",
   "metadata": {},
   "outputs": [],
   "source": []
  },
  {
   "cell_type": "code",
   "execution_count": null,
   "id": "b6301bbb",
   "metadata": {},
   "outputs": [],
   "source": []
  }
 ],
 "metadata": {
  "kernelspec": {
   "display_name": "Python 3",
   "language": "python",
   "name": "python3"
  },
  "language_info": {
   "codemirror_mode": {
    "name": "ipython",
    "version": 3
   },
   "file_extension": ".py",
   "mimetype": "text/x-python",
   "name": "python",
   "nbconvert_exporter": "python",
   "pygments_lexer": "ipython3",
   "version": "3.8.8"
  }
 },
 "nbformat": 4,
 "nbformat_minor": 5
}
