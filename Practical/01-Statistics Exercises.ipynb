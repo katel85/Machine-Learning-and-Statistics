{
 "cells": [
  {
   "cell_type": "markdown",
   "id": "1f925424",
   "metadata": {},
   "source": [
    "The above gives about a 1.5% chance of randomly selecting the correct cups. Calculate the minimum number of cups of tea required to ensure the probability of randomly selecting the correct cups is less than or equal to 1%.\n",
    "\n",
    "Bonus: How many would be required if you were to let the taster get one cup wrong while maintaining the 1% threshold?"
   ]
  },
  {
   "cell_type": "markdown",
   "id": "7da47bc1",
   "metadata": {},
   "source": [
    " Null Hypothesis: The subject cannot tell the difference between a cup of tea that had milk in it first and one that had the tea in it first.\n",
    " \n",
    " Alternative Hypothesis: the subject can tell.\n",
    " \n",
    " \n",
    " \n",
    " "
   ]
  },
  {
   "cell_type": "markdown",
   "id": "f584e2cd",
   "metadata": {},
   "source": [
    "We need to find out how many different ways there are to select 8 different cups. First we will label a parameter as the cups to label each one 0 to 7 "
   ]
  },
  {
   "cell_type": "code",
   "execution_count": 2,
   "id": "7090dd94",
   "metadata": {},
   "outputs": [
    {
     "data": {
      "text/plain": [
       "[0, 1, 2, 3, 4, 5, 6, 7]"
      ]
     },
     "execution_count": 2,
     "metadata": {},
     "output_type": "execute_result"
    }
   ],
   "source": [
    "# The eight cups.\n",
    "cups = list(range(8))\n",
    "cups"
   ]
  },
  {
   "cell_type": "code",
   "execution_count": 6,
   "id": "d7835080",
   "metadata": {},
   "outputs": [
    {
     "data": {
      "text/plain": [
       "0.014285714285714285"
      ]
     },
     "execution_count": 6,
     "metadata": {},
     "output_type": "execute_result"
    }
   ],
   "source": [
    "# the probability of randomly selecting the 4 right cups where the order doesn't matter\n",
    "(8*7*6*5)/(4*3*2*1)\n",
    "1.0/70.0\n",
    "#possibilities 8*7*6*5\n",
    "#we need to calculate how many times we essentially doubled up ont he same number during the possibilities stage\n",
    "# because we are chosing 4 numbers the order could be different in 4 ways. To account for the unordered list we then \n",
    "#divide by 4*3*2*1 to account for this and divide the possibilities by this number.\n",
    "#If order does matter we wouldn't divide by 4*3*2*1"
   ]
  },
  {
   "cell_type": "code",
   "execution_count": 5,
   "id": "3dd5e3bf",
   "metadata": {},
   "outputs": [
    {
     "data": {
      "text/plain": [
       "0.03571428571428571"
      ]
     },
     "execution_count": 5,
     "metadata": {},
     "output_type": "execute_result"
    }
   ],
   "source": [
    "# if we only wanted to select 2 cups from the eight the calulation would be \n",
    "# we are only looking at 2 cups and the list is randon/unordered so we divide by 2*1 as the order.\n",
    "(8*7)/(2*1)\n",
    "1.0/28.0"
   ]
  },
  {
   "cell_type": "code",
   "execution_count": 17,
   "id": "b8188764",
   "metadata": {},
   "outputs": [],
   "source": [
    "#wrap it n a list to get a nice output\n",
    "import itertools\n",
    "\n",
    "poss = list(itertools.combinations(cups, 4)) # using 4 as the number of cups to be selected from the eight generated.\n",
    "#len(poss)\n"
   ]
  },
  {
   "cell_type": "code",
   "execution_count": 18,
   "id": "fd5a79d2",
   "metadata": {},
   "outputs": [],
   "source": [
    "import itertools\n",
    "#using an example if only 2 cups with milk first was the hypothesis\n",
    "#poss = list(itertools.combinations(cups, 2))\n",
    "#len(poss)"
   ]
  },
  {
   "cell_type": "code",
   "execution_count": 19,
   "id": "60aa8ba5",
   "metadata": {},
   "outputs": [
    {
     "data": {
      "image/png": "[encoded data removed]",
      "text/plain": [
       "<Figure size 432x288 with 1 Axes>"
      ]
     },
     "metadata": {
      "needs_background": "light"
     },
     "output_type": "display_data"
    }
   ],
   "source": [
    "#Distribution\n",
    "import random\n",
    "import seaborn as sns\n",
    "\n",
    "# Pick a random correct answer from the list of 70 to simulate the experiment.\n",
    "# Randonly select the 4 cups with the milk in first as what the correct cups are for the answer.\n",
    "#Use the set parameter so you can use the & parameter in the next code\n",
    "milkfirst = set(random.choice(poss))\n",
    "\n",
    "# Count the overlap between the correct answer, and each of the 70 possiblities.\n",
    "#loop throught the possible sets and the set above generated in milkfirst\n",
    "counts = [len(milkfirst & set(i)) for i in itertools.combinations(cups, 4)]\n",
    "\n",
    "# Creat the plot.\n",
    "sns.countplot(x=counts);\n",
    "# the graph below shows the overlap of the cups selected in each overlap\n",
    "# of the 70 possibilities the is 1 in count that has zero possibilities. If the lady picked this cup she has zero chance of being in the milklist!\n",
    "# also the count is 1 if she gets all 4 cups right. \n",
    "# if the lady is allowed to get just one cup wrong there is 15 ways in the count ot get this correct.\n",
    "# 15 out of 70 gives her a 21.4% chance of getting the 3 cups correct. \n"
   ]
  },
  {
   "cell_type": "markdown",
   "id": "3e670170",
   "metadata": {},
   "source": [
    "The above gives about a 1.5% chance of randomly selecting the correct cups. Calculate the minimum number of cups of tea required to ensure the probability of randomly selecting the correct cups is less than or equal to 1%.\n",
    "\n",
    "Bonus: How many would be required if you were to let the taster get one cup wrong while maintaining the 1% threshold?"
   ]
  },
  {
   "cell_type": "code",
   "execution_count": 22,
   "id": "96caf548",
   "metadata": {},
   "outputs": [
    {
     "data": {
      "text/plain": [
       "70"
      ]
     },
     "execution_count": 22,
     "metadata": {},
     "output_type": "execute_result"
    }
   ],
   "source": [
    "#math module binomial coefficient\n",
    "import math\n",
    "math.comb(8,4)"
   ]
  },
  {
   "cell_type": "code",
   "execution_count": 23,
   "id": "99f67695",
   "metadata": {},
   "outputs": [
    {
     "data": {
      "text/plain": [
       "28"
      ]
     },
     "execution_count": 23,
     "metadata": {},
     "output_type": "execute_result"
    }
   ],
   "source": [
    "#randomly selecting 2 cups out of the 8 \n",
    "math.comb(8,2)"
   ]
  },
  {
   "cell_type": "code",
   "execution_count": 34,
   "id": "feeb55ad",
   "metadata": {},
   "outputs": [
    {
     "data": {
      "text/plain": [
       "0.007936507936507936"
      ]
     },
     "execution_count": 34,
     "metadata": {},
     "output_type": "execute_result"
    }
   ],
   "source": [
    "#using nine cups would give <1.5 percent chance of selecting the correct cup\n",
    "math.comb(9,4)\n",
    "1.0/math.comb(9,4)"
   ]
  },
  {
   "cell_type": "code",
   "execution_count": 35,
   "id": "3d1c19e2",
   "metadata": {},
   "outputs": [
    {
     "data": {
      "text/plain": [
       "0.017857142857142856"
      ]
     },
     "execution_count": 35,
     "metadata": {},
     "output_type": "execute_result"
    }
   ],
   "source": [
    "#How many would be required if you were to let the taster get one cup wrong while maintaining the 1% threshold?\n",
    "1.0/math.comb(8,3)"
   ]
  },
  {
   "cell_type": "code",
   "execution_count": 36,
   "id": "57f67964",
   "metadata": {},
   "outputs": [
    {
     "data": {
      "text/plain": [
       "0.011904761904761904"
      ]
     },
     "execution_count": 36,
     "metadata": {},
     "output_type": "execute_result"
    }
   ],
   "source": [
    "# this is still above the 1% threshold\n",
    "# the 1% threshold \n",
    "1.0/math.comb(9,3)\n",
    "#1.1% of 9 cups "
   ]
  },
  {
   "cell_type": "code",
   "execution_count": 40,
   "id": "ad16accf",
   "metadata": {},
   "outputs": [
    {
     "data": {
      "text/plain": [
       "0.008333333333333333"
      ]
     },
     "execution_count": 40,
     "metadata": {},
     "output_type": "execute_result"
    }
   ],
   "source": [
    "1.0/math.comb(10,3)\n",
    "# 10 cups would give a 0.8 percent chance"
   ]
  },
  {
   "cell_type": "code",
   "execution_count": null,
   "id": "c7284cc4",
   "metadata": {},
   "outputs": [],
   "source": []
  }
 ],
 "metadata": {
  "kernelspec": {
   "display_name": "Python 3",
   "language": "python",
   "name": "python3"
  },
  "language_info": {
   "codemirror_mode": {
    "name": "ipython",
    "version": 3
   },
   "file_extension": ".py",
   "mimetype": "text/x-python",
   "name": "python",
   "nbconvert_exporter": "python",
   "pygments_lexer": "ipython3",
   "version": "3.8.8"
  }
 },
 "nbformat": 4,
 "nbformat_minor": 5
}
