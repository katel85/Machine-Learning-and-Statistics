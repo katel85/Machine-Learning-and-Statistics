{
 "cells": [
  {
   "cell_type": "markdown",
   "id": "ec17dc5d-483f-44a8-94c6-3244b8cf2bba",
   "metadata": {},
   "source": [
    "**scipy.stats.ttest_ind**\n",
    "\n",
    "(a, b, axis=0, equal_var=True, nan_policy='propagate', permutations=None, random_state=None, alternative='two-sided', trim=0)\n",
    "\n",
    "Calculate the T-test for the means of two independent samples of scores.\n",
    "\n",
    "This is a test for the null hypothesis that 2 independent samples have identical average (expected) values. This test assumes that the populations have identical variances by default."
   ]
  },
  {
   "cell_type": "code",
   "execution_count": 2,
   "id": "ada296ac-8318-488c-a587-1344dc6c133c",
   "metadata": {},
   "outputs": [],
   "source": [
    "import numpy as np\n",
    "from scipy import stats\n",
    "rng = np.random.default_rng(12345) # set seed for reproducibilty"
   ]
  },
  {
   "cell_type": "markdown",
   "id": "19957335-313b-42e6-9e57-40308abe2c13",
   "metadata": {},
   "source": [
    "**features of scipy.stats **\n",
    "\n"
   ]
  },
  {
   "cell_type": "code",
   "execution_count": 7,
   "id": "7e855082-2dc2-4f88-b18a-432ea2963e60",
   "metadata": {},
   "outputs": [
    {
     "data": {
      "text/plain": [
       "['__class__',\n",
       " '__delattr__',\n",
       " '__dict__',\n",
       " '__dir__',\n",
       " '__doc__',\n",
       " '__eq__',\n",
       " '__format__',\n",
       " '__ge__',\n",
       " '__getattribute__',\n",
       " '__gt__',\n",
       " '__hash__',\n",
       " '__init__',\n",
       " '__init_subclass__',\n",
       " '__le__',\n",
       " '__lt__',\n",
       " '__module__',\n",
       " '__ne__',\n",
       " '__new__',\n",
       " '__reduce__',\n",
       " '__reduce_ex__',\n",
       " '__repr__',\n",
       " '__setattr__',\n",
       " '__sizeof__',\n",
       " '__str__',\n",
       " '__subclasshook__',\n",
       " '__weakref__',\n",
       " 'a',\n",
       " 'args',\n",
       " 'b',\n",
       " 'cdf',\n",
       " 'dist',\n",
       " 'entropy',\n",
       " 'expect',\n",
       " 'interval',\n",
       " 'isf',\n",
       " 'kwds',\n",
       " 'logcdf',\n",
       " 'logpdf',\n",
       " 'logpmf',\n",
       " 'logsf',\n",
       " 'mean',\n",
       " 'median',\n",
       " 'moment',\n",
       " 'pdf',\n",
       " 'pmf',\n",
       " 'ppf',\n",
       " 'random_state',\n",
       " 'rvs',\n",
       " 'sf',\n",
       " 'stats',\n",
       " 'std',\n",
       " 'support',\n",
       " 'var']"
      ]
     },
     "execution_count": 7,
     "metadata": {},
     "output_type": "execute_result"
    }
   ],
   "source": [
    "from scipy.stats import norm\n",
    "rv = norm()\n",
    "dir(rv)"
   ]
  },
  {
   "cell_type": "markdown",
   "id": "43279bae-f7f8-447f-b23f-60795cba9069",
   "metadata": {},
   "source": [
    "**Common methods**\n",
    "The main public methods for continuous RVs are:\n",
    "\n",
    "**rvs**: Random Variates\n",
    "\n",
    "**pdf**: Probability Density Function\n",
    "\n",
    "**cdf**: Cumulative Distribution Function\n",
    "\n",
    "**sf**: Survival Function (1-CDF)\n",
    "\n",
    "**ppf**: Percent Point Function (Inverse of CDF)\n",
    "\n",
    "**isf**: Inverse Survival Function (Inverse of SF)\n",
    "\n",
    "**stats**: Return mean, variance, (Fisher’s) skew, or (Fisher’s) kurtosis\n",
    "\n",
    "**moment**: non-central moments of the distribution"
   ]
  },
  {
   "cell_type": "code",
   "execution_count": null,
   "id": "2f35129f-a392-43f7-bed1-0042d25d9726",
   "metadata": {},
   "outputs": [],
   "source": []
  },
  {
   "cell_type": "markdown",
   "id": "a8983f61-4747-4c7d-b114-6f14f6fb85f5",
   "metadata": {},
   "source": [
    "The code below creates two datasets using the random variables from a normal distribution using the stats.norm.rvs function in the scipy.stats package. \n",
    "Both datasets shoudl contain the exact same numbers in the distribution."
   ]
  },
  {
   "cell_type": "code",
   "execution_count": 3,
   "id": "f3d50f8b-7768-4cc0-a3f5-152b08a54af3",
   "metadata": {},
   "outputs": [
    {
     "data": {
      "text/plain": [
       "Ttest_indResult(statistic=-0.664108846106885, pvalue=0.5067740450450016)"
      ]
     },
     "execution_count": 3,
     "metadata": {},
     "output_type": "execute_result"
    }
   ],
   "source": [
    "#rvs1= random variables\n",
    "# Shifting and scaling:All continuous distributions take loc and scale as keyword parameters to adjust the location and scale of the distribution, e.g., \n",
    "#for the standard normal distribution, the location is the mean and the scale is the standard deviation.\n",
    "#To generate a sequence of random variates, use the size keyword argument:\n",
    "rvs1 = stats.norm.rvs(loc=5, scale=10, size=500, random_state=rng)\n",
    "rvs2 = stats.norm.rvs(loc=5, scale=10, size=500, random_state=rng)\n",
    "stats.ttest_ind(rvs1, rvs2)\n",
    "# p-value is >0.05 so you would fail to reject the null hypothesis that these populations are similiar "
   ]
  },
  {
   "cell_type": "code",
   "execution_count": 4,
   "id": "5e84fee9-d5f5-49cf-8f1c-938c5077f71b",
   "metadata": {},
   "outputs": [
    {
     "data": {
      "text/plain": [
       "Ttest_indResult(statistic=2.3133511468559473, pvalue=0.02090595957658397)"
      ]
     },
     "execution_count": 4,
     "metadata": {},
     "output_type": "execute_result"
    }
   ],
   "source": [
    "rvs1 = stats.norm.rvs(loc=5, scale=10, size=500, random_state=rng)\n",
    "rvs2 = stats.norm.rvs(loc=5, scale=10, size=500, random_state=rng)\n",
    "stats.ttest_ind(rvs1, rvs2, equal_var=False) # the test above assumes equal variance this does not and so the p value will change.ttest_ind underestimates p for unequal variances:\n",
    "# p value is <0.05 so you would reject the null hypothesis that these populations are similiar because of the unequal variance"
   ]
  },
  {
   "cell_type": "code",
   "execution_count": 12,
   "id": "689e92dc-a2c2-4462-af22-17e557404f54",
   "metadata": {},
   "outputs": [
    {
     "data": {
      "text/plain": [
       "Ttest_indResult(statistic=0.43319113173052654, pvalue=0.6649695277098774)"
      ]
     },
     "execution_count": 12,
     "metadata": {},
     "output_type": "execute_result"
    }
   ],
   "source": [
    "# rsv3 is introduced which has the same sample size and mean but standard deviation is larger.\n",
    "# p-value here is >0.05 so you would fail to reject the null hypothesis that these poulations are similiar\n",
    "rvs3 = stats.norm.rvs(loc=5, scale=20, size=500, random_state=rng) \n",
    "stats.ttest_ind(rvs1, rvs3)"
   ]
  },
  {
   "cell_type": "code",
   "execution_count": 13,
   "id": "93c8d661-e467-47f3-8766-9a60386d8c9c",
   "metadata": {},
   "outputs": [
    {
     "data": {
      "text/plain": [
       "Ttest_indResult(statistic=0.43319113173052654, pvalue=0.6650039826255966)"
      ]
     },
     "execution_count": 13,
     "metadata": {},
     "output_type": "execute_result"
    }
   ],
   "source": [
    "# The variance does not seem to matter in this instance because when rsv1 != rsv3 due to the difference in standard deviation\n",
    "stats.ttest_ind(rvs1, rvs3, equal_var=False )"
   ]
  },
  {
   "cell_type": "code",
   "execution_count": 14,
   "id": "f40b5670-e7c4-4563-b59a-d273adbeedaa",
   "metadata": {},
   "outputs": [
    {
     "data": {
      "text/plain": [
       "Ttest_indResult(statistic=3.367556612906114, pvalue=0.0008070826619777821)"
      ]
     },
     "execution_count": 14,
     "metadata": {},
     "output_type": "execute_result"
    }
   ],
   "source": [
    "rvs4 = stats.norm.rvs(loc=5, scale=20, size=100, random_state=rng)\n",
    "stats.ttest_ind(rvs1, rvs4)\n",
    "# p-value is <0.05 - reject the null hypothesis. This makes sense because the sample standard deviation and size are different in both these populations"
   ]
  },
  {
   "cell_type": "code",
   "execution_count": 15,
   "id": "3a4bdea8-bd41-41b7-87d9-43a5e0040947",
   "metadata": {},
   "outputs": [
    {
     "data": {
      "text/plain": [
       "Ttest_indResult(statistic=2.149386766259157, pvalue=0.03383318995219999)"
      ]
     },
     "execution_count": 15,
     "metadata": {},
     "output_type": "execute_result"
    }
   ],
   "source": [
    "stats.ttest_ind(rvs1, rvs4, equal_var=False )\n",
    "# "
   ]
  },
  {
   "cell_type": "code",
   "execution_count": null,
   "id": "63678fef-9abc-431a-9987-8533a71191e1",
   "metadata": {},
   "outputs": [],
   "source": []
  },
  {
   "cell_type": "code",
   "execution_count": null,
   "id": "10e24fa0-1bd5-43e3-b67d-05cc040eda53",
   "metadata": {},
   "outputs": [],
   "source": []
  },
  {
   "cell_type": "code",
   "execution_count": null,
   "id": "61c048d7-94cf-4cd6-bbd8-4dc9730508ad",
   "metadata": {},
   "outputs": [],
   "source": []
  },
  {
   "cell_type": "markdown",
   "id": "184b509c-4835-4fca-847d-1c6a53bc6a07",
   "metadata": {},
   "source": [
    "# References: #\n",
    "https://docs.scipy.org/doc/scipy/tutorial/stats.html?highlight=scipy%20ttests\n"
   ]
  }
 ],
 "metadata": {
  "kernelspec": {
   "display_name": "Python 3",
   "language": "python",
   "name": "python3"
  },
  "language_info": {
   "codemirror_mode": {
    "name": "ipython",
    "version": 3
   },
   "file_extension": ".py",
   "mimetype": "text/x-python",
   "name": "python",
   "nbconvert_exporter": "python",
   "pygments_lexer": "ipython3",
   "version": "3.8.8"
  }
 },
 "nbformat": 4,
 "nbformat_minor": 5
}
