{
 "cells": [
  {
   "cell_type": "markdown",
   "id": "36494f48-7875-4580-9ac1-796ed44f7f0a",
   "metadata": {},
   "source": [
    "# scipy.stats.fisher_exact #\n",
    "\n",
    "The null hypothesis is that the true odds ratio of the populations underlying the observations is one, and the observations were sampled from these populations under a condition: the marginals of the resulting table must equal those of the observed table. The statistic returned is the unconditional maximum likelihood estimate of the odds ratio, and the p-value is the probability under the null hypothesis of obtaining a table at least as extreme as the one that was actually observed."
   ]
  },
  {
   "cell_type": "code",
   "execution_count": null,
   "id": "5dccbc21-08e5-483e-b90f-ba4533baf285",
   "metadata": {},
   "outputs": [],
   "source": []
  },
  {
   "cell_type": "markdown",
   "id": "8b388261-4e8b-417c-886d-c1b32e1d8f35",
   "metadata": {},
   "source": [
    "**Ladies Tea Tasting Experiemnt**\n",
    "\n",
    "Our experiment consists in mixing eight cups of tea, four in one way and four in the other, and presenting them to the subject for judgment in a random order. The subject has been told in advance of what the test will consist, namely that she will be asked to taste eight cups, that these shall be four of each kind, and that they shall be presented to her in a random order, that is in an order not determined arbitrarily by human choice, but by the actual manipulation of the physical apparatus used in games of chance, cards, dice, roulettes, etc., or, more expeditiously, from a published collection of random sampling numbers purporting to give the actual results of such manipulation. Her task is to divide the 8 cups into two sets of 4, agreeing, if possible, with the treatments received.\n",
    "\n",
    "**Null Hypothesis:** the subject can not tell if the cup had milk in it first or last.\n",
    "\n",
    "\n",
    "Once we collect the experimental data we evaluate how likely we were to see such data if the null hypothesis is true.\n",
    "\n",
    "If it is very unlikely, then we may reject the null hypothesis.\n",
    "\n",
    "Typically we have an alternative hypothesis that we suggest rejecting the null hypothesis is evidence for.\n",
    "\n",
    "\n",
    "**Alternative Hypothesis:** the subject can tell.\n",
    "\n",
    "\n",
    "Should the subject pick the correct four cups with milk in them first, there is only a 1 in 70 (~1.4%) chance of them having done that if they were simply guessing.\n",
    "\n",
    "Fisher considered that unlikely enough to reject the null hypothesis if they manage it.\n"
   ]
  },
  {
   "cell_type": "markdown",
   "id": "0efa450e-4da8-4658-885e-660ec14ad8d3",
   "metadata": {},
   "source": [
    "![table](ProbTable.jpg)"
   ]
  },
  {
   "cell_type": "markdown",
   "id": "5942ed27-a8a0-4699-a250-a32fcc656f6f",
   "metadata": {},
   "source": [
    "![Example Table](TableExam.jpg)"
   ]
  },
  {
   "cell_type": "markdown",
   "id": "5e6c8fa5-754f-4afb-a5b2-f2432e0b47b1",
   "metadata": {},
   "source": [
    "The one-tailed p value for Fisher’s Exact Test is calculated as:\n",
    "\n",
    "p = (a+b)!(c+d)!(a+c)!(b+d)! / (a!b!c!d!n!)\n",
    "\n",
    "This produces the same p value as the **CDF of the hypergeometric distribution** with the following parameters:\n",
    "\n",
    "population size = n\n",
    "population “successes” = a+b\n",
    "sample size = a + c\n",
    "sample “successes” = a"
   ]
  },
  {
   "cell_type": "code",
   "execution_count": 25,
   "id": "7d31d8ad-6296-4347-8204-166d8f53a4ff",
   "metadata": {},
   "outputs": [
    {
     "data": {
      "text/plain": [
       "array([0.01428571, 0.22857143, 0.51428571, 0.22857143, 0.01428571])"
      ]
     },
     "execution_count": 25,
     "metadata": {},
     "output_type": "execute_result"
    }
   ],
   "source": [
    "from scipy.stats import hypergeom\n",
    "table = np.array([[4, 0], [0, 4]])\n",
    "M = table.sum()\n",
    "n = table[0].sum()\n",
    "N = table[:, 0].sum()\n",
    "start, end = hypergeom.support(M, n, N)\n",
    "hypergeom.pmf(np.arange(start, end+1), M, n, N)"
   ]
  },
  {
   "cell_type": "code",
   "execution_count": 26,
   "id": "ddfdceac-c50e-477d-b5db-b4282802ad80",
   "metadata": {},
   "outputs": [
    {
     "data": {
      "text/plain": [
       "0.028571428571428536"
      ]
     },
     "execution_count": 26,
     "metadata": {},
     "output_type": "execute_result"
    }
   ],
   "source": [
    "from scipy.stats import fisher_exact\n",
    "oddsr, p = fisher_exact(table, alternative='two-sided')\n",
    "p"
   ]
  },
  {
   "cell_type": "code",
   "execution_count": 27,
   "id": "f423b05e-ae6b-4854-a752-da785a00a586",
   "metadata": {},
   "outputs": [
    {
     "data": {
      "text/plain": [
       "0.014285714285714268"
      ]
     },
     "execution_count": 27,
     "metadata": {},
     "output_type": "execute_result"
    }
   ],
   "source": [
    "# this gives us the probability that the exact 4 cups are guessed correctly \n",
    "oddsr, p = fisher_exact(table, alternative='greater')\n",
    "p"
   ]
  },
  {
   "cell_type": "code",
   "execution_count": 28,
   "id": "7a23beb9-93b9-481d-95a5-8c123acbcad4",
   "metadata": {},
   "outputs": [
    {
     "data": {
      "text/plain": [
       "1.0"
      ]
     },
     "execution_count": 28,
     "metadata": {},
     "output_type": "execute_result"
    }
   ],
   "source": [
    "oddsr, p = fisher_exact(table, alternative='less')\n",
    "p"
   ]
  },
  {
   "cell_type": "markdown",
   "id": "b8484820-a465-453f-ab1c-f88432b34f74",
   "metadata": {},
   "source": [
    "![probabilities](ProbTea.jpg)"
   ]
  },
  {
   "cell_type": "markdown",
   "id": "d0330a17-64a0-4307-956d-af7dd480cc05",
   "metadata": {},
   "source": [
    "# References #\n",
    "\n",
    "https://towardsdatascience.com/fishers-exact-test-from-scratch-with-python-2b907f29e593\n",
    "\n",
    "https://pythonguides.com/scipy-stats/\n"
   ]
  },
  {
   "cell_type": "code",
   "execution_count": null,
   "id": "61bfd10a-7196-4ce5-be33-7e32bef57e3f",
   "metadata": {},
   "outputs": [],
   "source": []
  },
  {
   "cell_type": "code",
   "execution_count": null,
   "id": "b098bec1-84a0-4294-94b5-e26be35a4249",
   "metadata": {},
   "outputs": [],
   "source": []
  },
  {
   "cell_type": "code",
   "execution_count": null,
   "id": "9e22a20c-2894-4ca4-9873-e833c8ef2bf9",
   "metadata": {},
   "outputs": [],
   "source": []
  }
 ],
 "metadata": {
  "kernelspec": {
   "display_name": "Python 3",
   "language": "python",
   "name": "python3"
  },
  "language_info": {
   "codemirror_mode": {
    "name": "ipython",
    "version": 3
   },
   "file_extension": ".py",
   "mimetype": "text/x-python",
   "name": "python",
   "nbconvert_exporter": "python",
   "pygments_lexer": "ipython3",
   "version": "3.8.8"
  }
 },
 "nbformat": 4,
 "nbformat_minor": 5
}
