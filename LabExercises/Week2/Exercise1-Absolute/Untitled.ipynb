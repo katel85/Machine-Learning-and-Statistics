{
 "cells": [
  {
   "cell_type": "markdown",
   "id": "82d63d5c-c2c3-4dd0-91e1-a75aa3cca40e",
   "metadata": {},
   "source": [
    "https://pythonguides.com/scipy-stats/\n",
    "    \n"
   ]
  }
 ],
 "metadata": {
  "kernelspec": {
   "display_name": "Python 3",
   "language": "python",
   "name": "python3"
  },
  "language_info": {
   "codemirror_mode": {
    "name": "ipython",
    "version": 3
   },
   "file_extension": ".py",
   "mimetype": "text/x-python",
   "name": "python",
   "nbconvert_exporter": "python",
   "pygments_lexer": "ipython3",
   "version": "3.8.8"
  }
 },
 "nbformat": 4,
 "nbformat_minor": 5
}
