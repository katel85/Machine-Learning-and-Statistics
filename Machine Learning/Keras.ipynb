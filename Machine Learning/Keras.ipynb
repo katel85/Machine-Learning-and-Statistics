{
 "cells": [
  {
   "cell_type": "markdown",
   "id": "c4fc0bdc-adc6-48ce-904c-83a75eb4d899",
   "metadata": {},
   "source": [
    "https://keras.io/\n",
    "\n",
    "https://github.com/keras-team/keras/blob/master/README.md"
   ]
  },
  {
   "cell_type": "code",
   "execution_count": 3,
   "id": "7b97c95f-ad81-46e7-9d66-e39328960c53",
   "metadata": {},
   "outputs": [],
   "source": [
    "# Using Keras \n",
    "#import keras\n",
    "from tensorflow.keras.models import Sequential\n",
    "import tensorflow.keras as keras\n",
    "#create a new sequential neuron model\n",
    "model = keras.Sequential()\n"
   ]
  },
  {
   "cell_type": "code",
   "execution_count": 4,
   "id": "e74b01b2-222c-4ed2-9868-378131b5819d",
   "metadata": {},
   "outputs": [],
   "source": [
    "#from tensorflow.keras.layers import Dense\n",
    "\n",
    "# add a dense layer with 64 neurons and use the relu activation function\n",
    "model.add(keras.layers.Dense(units=64, activation='relu'))\n"
   ]
  },
  {
   "cell_type": "code",
   "execution_count": 6,
   "id": "a81e039d-2c21-4505-93a7-31ea1c6f23f4",
   "metadata": {},
   "outputs": [],
   "source": [
    "# add a dense layer with 10 neurons and use the softmax activation function\n",
    "model.add(keras.layers. Dense(units=10, activation='softmax'))"
   ]
  },
  {
   "cell_type": "code",
   "execution_count": 10,
   "id": "ebe3a9e7-19aa-4c37-bbd6-6592c14b4515",
   "metadata": {},
   "outputs": [],
   "source": [
    "# compile the neuron network once the model looks good\n",
    "\n",
    "model.compile(loss='categorical_crossentropy',optimizer='sgd',metrics=['accuracy'])"
   ]
  },
  {
   "cell_type": "code",
   "execution_count": 11,
   "id": "bf866ee2-1e54-46d2-83ed-adece8218b4d",
   "metadata": {},
   "outputs": [],
   "source": [
    "# Create a fake training data set.\n",
    "import numpy as np\n",
    "x_train = np.random.normal(0.0, 1.0, (100, 64))\n",
    "y_train = np.random.normal(0.5, 0.1, (100, 10))"
   ]
  },
  {
   "cell_type": "code",
   "execution_count": 12,
   "id": "2db753a1-f329-4cf1-8cfa-4743c7957614",
   "metadata": {},
   "outputs": [
    {
     "name": "stdout",
     "output_type": "stream",
     "text": [
      "Epoch 1/5\n",
      "4/4 [==============================] - 0s 4ms/step - loss: 13.3392 - accuracy: 0.1000\n",
      "Epoch 2/5\n",
      "4/4 [==============================] - 0s 747us/step - loss: 13.2624 - accuracy: 0.1000\n",
      "Epoch 3/5\n",
      "4/4 [==============================] - 0s 1ms/step - loss: 13.1915 - accuracy: 0.1000\n",
      "Epoch 4/5\n",
      "4/4 [==============================] - 0s 1ms/step - loss: 13.1305 - accuracy: 0.1200\n",
      "Epoch 5/5\n",
      "4/4 [==============================] - 0s 962us/step - loss: 13.0711 - accuracy: 0.1200\n"
     ]
    },
    {
     "data": {
      "text/plain": [
       "<tensorflow.python.keras.callbacks.History at 0x22d47a4c6d0>"
      ]
     },
     "execution_count": 12,
     "metadata": {},
     "output_type": "execute_result"
    }
   ],
   "source": [
    "#You can now iterate on your training data in batches:\n",
    "\n",
    "model.fit(x_train, y_train, epochs=5, batch_size=32)"
   ]
  },
  {
   "cell_type": "code",
   "execution_count": 17,
   "id": "bc31c900-fcf6-4046-b848-37ed62f918ed",
   "metadata": {},
   "outputs": [],
   "source": [
    "x_test = np.random.normal(0.0, 1.0, (20, 64))\n",
    "y_test = np.random.normal(0.5, 0.1, (20, 10))"
   ]
  },
  {
   "cell_type": "code",
   "execution_count": 18,
   "id": "d13c0f7e-79d0-41f9-ba86-74bf7b351fcb",
   "metadata": {},
   "outputs": [
    {
     "name": "stdout",
     "output_type": "stream",
     "text": [
      "1/1 [==============================] - 0s 1ms/step - loss: 13.0303 - accuracy: 0.1000\n"
     ]
    }
   ],
   "source": [
    "# Evaluate the network.\n",
    "loss_and_metrics = model.evaluate(x_test, y_test, batch_size=128)\n"
   ]
  },
  {
   "cell_type": "code",
   "execution_count": 19,
   "id": "45e817eb-5503-4ffa-8ed0-3102f69793fe",
   "metadata": {},
   "outputs": [],
   "source": [
    "# Make predictions for the test set.\n",
    "classes = model.predict(x_test, batch_size=128)"
   ]
  },
  {
   "cell_type": "code",
   "execution_count": 20,
   "id": "4b6dafeb-fd2b-4603-b87a-62622c458798",
   "metadata": {},
   "outputs": [
    {
     "data": {
      "text/plain": [
       "array([[0.08590703, 0.03960564, 0.1520999 , 0.08197254, 0.16056009,\n",
       "        0.30281484, 0.03099447, 0.0550463 , 0.03328361, 0.05771557],\n",
       "       [0.01118437, 0.04471816, 0.03722463, 0.06485223, 0.39275414,\n",
       "        0.13587123, 0.02901343, 0.10589749, 0.16631481, 0.01216954],\n",
       "       [0.11803637, 0.11768357, 0.21762012, 0.07466789, 0.09881247,\n",
       "        0.07975307, 0.05465709, 0.11851406, 0.0770612 , 0.04319411],\n",
       "       [0.03585209, 0.06846902, 0.01981268, 0.04525607, 0.21700211,\n",
       "        0.25228092, 0.18219115, 0.07011619, 0.04754469, 0.06147498],\n",
       "       [0.01969823, 0.06751502, 0.12403663, 0.20561856, 0.11040356,\n",
       "        0.07487427, 0.07501778, 0.09026396, 0.1470547 , 0.08551726],\n",
       "       [0.08378122, 0.06923202, 0.05216619, 0.06141739, 0.09656869,\n",
       "        0.02980642, 0.11007803, 0.23509592, 0.22399123, 0.03786293],\n",
       "       [0.03290771, 0.04011691, 0.10234985, 0.08823912, 0.2312988 ,\n",
       "        0.13305768, 0.22996011, 0.04478065, 0.07708621, 0.02020309],\n",
       "       [0.05292063, 0.24863072, 0.07291244, 0.11284111, 0.2829608 ,\n",
       "        0.06114678, 0.04873703, 0.05830067, 0.04861694, 0.01293281],\n",
       "       [0.17926656, 0.08980513, 0.03733274, 0.03434468, 0.05638887,\n",
       "        0.07390098, 0.28471243, 0.08567683, 0.04079816, 0.11777367],\n",
       "       [0.06022423, 0.0539933 , 0.03346732, 0.05910572, 0.04410081,\n",
       "        0.04694678, 0.12025998, 0.45181972, 0.10487852, 0.02520355],\n",
       "       [0.02225199, 0.04963142, 0.01359806, 0.08282387, 0.39648536,\n",
       "        0.08857606, 0.10613733, 0.13196243, 0.06293079, 0.04560275],\n",
       "       [0.05622436, 0.13783538, 0.08276113, 0.1274593 , 0.17334473,\n",
       "        0.03575955, 0.2100804 , 0.07108054, 0.0709483 , 0.03450628],\n",
       "       [0.14516121, 0.08380686, 0.07821719, 0.06537912, 0.10275327,\n",
       "        0.01455327, 0.12723736, 0.23544773, 0.13852057, 0.00892351],\n",
       "       [0.04900087, 0.04802636, 0.00748355, 0.10792465, 0.5278501 ,\n",
       "        0.0396303 , 0.0638463 , 0.05143619, 0.035909  , 0.06889267],\n",
       "       [0.0969356 , 0.13747402, 0.21350713, 0.07121512, 0.14110984,\n",
       "        0.09391348, 0.0372795 , 0.09524087, 0.07076313, 0.04256126],\n",
       "       [0.0459764 , 0.06679461, 0.04320892, 0.02609221, 0.371314  ,\n",
       "        0.02326805, 0.05297727, 0.20917335, 0.14879881, 0.01239644],\n",
       "       [0.05240311, 0.16930816, 0.10366931, 0.04103392, 0.10779738,\n",
       "        0.14663512, 0.05770402, 0.1523631 , 0.10566129, 0.06342465],\n",
       "       [0.03278123, 0.08871777, 0.1489797 , 0.0303646 , 0.27602684,\n",
       "        0.12757659, 0.02047594, 0.05077558, 0.1966764 , 0.02762535],\n",
       "       [0.07721233, 0.04207748, 0.05055392, 0.03675639, 0.14404775,\n",
       "        0.14077315, 0.19467439, 0.06730051, 0.17916533, 0.06743882],\n",
       "       [0.03051397, 0.03960885, 0.08049326, 0.06741898, 0.15480521,\n",
       "        0.13433686, 0.0747763 , 0.1817587 , 0.18082695, 0.05546096]],\n",
       "      dtype=float32)"
      ]
     },
     "execution_count": 20,
     "metadata": {},
     "output_type": "execute_result"
    }
   ],
   "source": [
    "classes"
   ]
  },
  {
   "cell_type": "code",
   "execution_count": null,
   "id": "301285b9-7401-4c71-981a-4af7a6c1cf0f",
   "metadata": {},
   "outputs": [],
   "source": []
  },
  {
   "cell_type": "code",
   "execution_count": null,
   "id": "46a4867d-31a2-4a59-9a30-e399e5558264",
   "metadata": {},
   "outputs": [],
   "source": []
  },
  {
   "cell_type": "code",
   "execution_count": null,
   "id": "dce1a74a-07c9-4689-b82f-27d6048523d3",
   "metadata": {},
   "outputs": [],
   "source": []
  },
  {
   "cell_type": "code",
   "execution_count": null,
   "id": "45eb3317-96a9-4cf3-b5af-f045d3c732ad",
   "metadata": {},
   "outputs": [],
   "source": []
  },
  {
   "cell_type": "code",
   "execution_count": null,
   "id": "3e8173a2-b052-4464-8a24-4183b8f171c1",
   "metadata": {},
   "outputs": [],
   "source": []
  },
  {
   "cell_type": "code",
   "execution_count": null,
   "id": "351ca9ab-c36d-4c47-9742-8bcdca9fc27d",
   "metadata": {},
   "outputs": [],
   "source": []
  },
  {
   "cell_type": "code",
   "execution_count": null,
   "id": "d742117c-a25c-46b2-bda7-0e8ef301665c",
   "metadata": {},
   "outputs": [],
   "source": []
  },
  {
   "cell_type": "code",
   "execution_count": null,
   "id": "6902b407-319e-4da9-97b3-87c5ec22479c",
   "metadata": {},
   "outputs": [],
   "source": []
  },
  {
   "cell_type": "code",
   "execution_count": null,
   "id": "d42c14da-9165-4800-809f-684e00c4405f",
   "metadata": {},
   "outputs": [],
   "source": []
  },
  {
   "cell_type": "code",
   "execution_count": null,
   "id": "c8aa228a-0a6a-49ea-b62a-a1c1ce1b493d",
   "metadata": {},
   "outputs": [],
   "source": []
  }
 ],
 "metadata": {
  "kernelspec": {
   "display_name": "Python 3",
   "language": "python",
   "name": "python3"
  },
  "language_info": {
   "codemirror_mode": {
    "name": "ipython",
    "version": 3
   },
   "file_extension": ".py",
   "mimetype": "text/x-python",
   "name": "python",
   "nbconvert_exporter": "python",
   "pygments_lexer": "ipython3",
   "version": "3.8.8"
  }
 },
 "nbformat": 4,
 "nbformat_minor": 5
}
