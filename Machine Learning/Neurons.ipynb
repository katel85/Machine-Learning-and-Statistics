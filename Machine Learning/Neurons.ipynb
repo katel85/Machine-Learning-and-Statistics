{
 "cells": [
  {
   "cell_type": "markdown",
   "id": "6c8fe700-57e9-4934-b9d1-75ebcf3471c4",
   "metadata": {},
   "source": [
    "$ conda install tensorflow\n",
    "https://keras.io/\n"
   ]
  },
  {
   "cell_type": "markdown",
   "id": "2c1cc664-239f-4dd8-a3be-bcd7ac985c19",
   "metadata": {},
   "source": [
    "# Machine Learning"
   ]
  },
  {
   "cell_type": "code",
   "execution_count": 28,
   "id": "2854024f-7b4a-458b-afda-87106ad96230",
   "metadata": {},
   "outputs": [],
   "source": [
    "# numerical array\n",
    "import numpy as np\n",
    "# neural netwoks\n",
    "import tensorflow.keras as keras\n",
    "\n",
    "# for plots\n",
    "# Plotting.\n",
    "import matplotlib.pyplot as plt"
   ]
  },
  {
   "cell_type": "markdown",
   "id": "6775f253-4065-4157-aaaa-0c6b34451ae4",
   "metadata": {},
   "source": [
    "# Single Neuron"
   ]
  },
  {
   "cell_type": "code",
   "execution_count": 2,
   "id": "123cb445-5ad7-4e78-aef9-45719939c6b4",
   "metadata": {},
   "outputs": [],
   "source": [
    "# Horrible hack from: https://stackoverflow.com/a/53014308\n",
    "import os\n",
    "os.environ[\"KMP_DUPLICATE_LIB_OK\"]=\"TRUE\""
   ]
  },
  {
   "cell_type": "markdown",
   "id": "2840f961-ce5f-44b4-aa98-18bb6601ab7e",
   "metadata": {},
   "source": [
    "Can use app formerly known as draw.io to make diagrams. Can use app.diagrams.net free web app. \n",
    "Going to use this to draw a neuron."
   ]
  },
  {
   "cell_type": "markdown",
   "id": "665d30ec-867c-4128-afc3-cf360c3d638e",
   "metadata": {},
   "source": [
    "# Single Neuron"
   ]
  },
  {
   "cell_type": "markdown",
   "id": "e482071c-12b0-4a3e-acab-6b69f63fee1f",
   "metadata": {},
   "source": [
    "![](../img/neuron.svg)"
   ]
  },
  {
   "cell_type": "markdown",
   "id": "0b64356f-4a74-4700-9a61-e4c3f66c3ea1",
   "metadata": {},
   "source": [
    "# Single Input To Neuron"
   ]
  },
  {
   "cell_type": "markdown",
   "id": "5e94c657-6230-4744-bc6e-39a7817dc8b7",
   "metadata": {},
   "source": [
    "![](../img/SingleInput.svg)"
   ]
  },
  {
   "cell_type": "markdown",
   "id": "6363193e-de71-405e-b323-60737ad7a4ea",
   "metadata": {},
   "source": [
    "$y=mx+c$\n",
    "\n",
    "$\\phi(x)=(x)$\n",
    "\n",
    "$ \\phi(x_1 w_1+ w_0) = x_1w_1 + w_0 $"
   ]
  },
  {
   "cell_type": "code",
   "execution_count": null,
   "id": "740491cf-6eea-40b2-9087-994fc8a0fb1a",
   "metadata": {},
   "outputs": [],
   "source": [
    "# Coding up the neuron.\n",
    "# Need to take in an input called x1 in the diagram above. \n",
    "# y = mx +c . The x here is the x1 in the diagram. The y in the equation will be w1 as x and w are multiplied in the circle of the neuron. \n",
    "#The c in the eqaution can be thought of as w0. Therefore y= m(w1)x(x1)+c(x0)\n"
   ]
  },
  {
   "cell_type": "code",
   "execution_count": 16,
   "id": "64f89a55-4979-41f4-8493-523fdc357291",
   "metadata": {},
   "outputs": [],
   "source": [
    "# Identity activation code\n",
    "def phi(x):\n",
    "    return x"
   ]
  },
  {
   "cell_type": "code",
   "execution_count": 17,
   "id": "2101fda9-e264-4f72-bfac-7b19cec544f2",
   "metadata": {},
   "outputs": [],
   "source": [
    "def fire_neuron(x,w):\n",
    "    return w[1]*x+w[0]"
   ]
  },
  {
   "cell_type": "code",
   "execution_count": 7,
   "id": "4bb8411e-ca01-48f1-adb5-2593fd9ee3d8",
   "metadata": {},
   "outputs": [
    {
     "data": {
      "text/plain": [
       "2"
      ]
     },
     "execution_count": 7,
     "metadata": {},
     "output_type": "execute_result"
    }
   ],
   "source": [
    "# w values here have been input to a list as there are two in our eqaution \n",
    "fire_neuron(1,[2,0])"
   ]
  },
  {
   "cell_type": "code",
   "execution_count": 8,
   "id": "efb95979-d45f-4aa6-8acf-3f0d96e296fc",
   "metadata": {},
   "outputs": [
    {
     "data": {
      "text/plain": [
       "14"
      ]
     },
     "execution_count": 8,
     "metadata": {},
     "output_type": "execute_result"
    }
   ],
   "source": [
    "fire_neuron(4,[2,3])"
   ]
  },
  {
   "cell_type": "code",
   "execution_count": 20,
   "id": "c5bbadfd-fdb9-4e66-aa76-d7288dfb62f9",
   "metadata": {},
   "outputs": [],
   "source": [
    "#using numpy array to do the same calculation as above\n",
    "def fire_neuron(x,w,phi):\n",
    "    return phi(np.sum(x*w)) # we can do this if w0 is always 1"
   ]
  },
  {
   "cell_type": "code",
   "execution_count": 21,
   "id": "fc36d653-e222-42dd-8f8e-dc6ae8869637",
   "metadata": {},
   "outputs": [
    {
     "data": {
      "text/plain": [
       "(array([1., 4.]), array([2., 3.]))"
      ]
     },
     "execution_count": 21,
     "metadata": {},
     "output_type": "execute_result"
    }
   ],
   "source": [
    "#put x and m values in an array for the above code\n",
    "x = np.array([1.0,4.0]) # always need 1.0 at index 0 x0=1\n",
    "w = np.array([2.0,3.0]) # these are our weights\n",
    "\n",
    "x,w"
   ]
  },
  {
   "cell_type": "code",
   "execution_count": 22,
   "id": "75375b28-6c84-40d3-bafd-07b72bccbf44",
   "metadata": {},
   "outputs": [
    {
     "data": {
      "text/plain": [
       "14.0"
      ]
     },
     "execution_count": 22,
     "metadata": {},
     "output_type": "execute_result"
    }
   ],
   "source": [
    "fire_neuron(x,w, phi) # could use lambda x:x for phi"
   ]
  },
  {
   "cell_type": "code",
   "execution_count": null,
   "id": "30daf834-7bf3-4dba-984b-f02a7ad4e2a0",
   "metadata": {},
   "outputs": [],
   "source": []
  },
  {
   "cell_type": "markdown",
   "id": "ac2fd297-9418-4979-a7e6-0541b42f19dc",
   "metadata": {},
   "source": [
    "# Data\n"
   ]
  },
  {
   "cell_type": "code",
   "execution_count": 24,
   "id": "cde52a82-2267-48b6-ae98-3c3bc17f9e0d",
   "metadata": {},
   "outputs": [
    {
     "data": {
      "text/plain": [
       "array([ 1.,  2.,  3.,  4.,  5.,  6.,  7.,  8.,  9., 10., 11., 12.])"
      ]
     },
     "execution_count": 24,
     "metadata": {},
     "output_type": "execute_result"
    }
   ],
   "source": [
    "# real world input values\n",
    "data_in = np.arange (1.0,13.0,1.0)\n",
    "data_in"
   ]
  },
  {
   "cell_type": "code",
   "execution_count": 30,
   "id": "d1d12cf2-3f7c-4393-b6c6-7b0bb8beba7f",
   "metadata": {},
   "outputs": [
    {
     "data": {
      "text/plain": [
       "array([ 5.01496161,  8.71681819, 12.01324653, 17.22047576, 20.35433273,\n",
       "       23.99664966, 27.29305515, 30.4916167 , 35.51933983, 39.42426508,\n",
       "       42.78403731, 47.6836833 ])"
      ]
     },
     "execution_count": 30,
     "metadata": {},
     "output_type": "execute_result"
    }
   ],
   "source": [
    "#real world output values\n",
    "data_out = 4* data_in + np.random.normal(0.0,1.0,len(data_in))\n",
    "data_out\n"
   ]
  },
  {
   "cell_type": "code",
   "execution_count": 31,
   "id": "224f7afb-1d04-49ff-9ba8-2ac88e18cd7f",
   "metadata": {},
   "outputs": [
    {
     "data": {
      "text/plain": [
       "[<matplotlib.lines.Line2D at 0x2bbd94fb250>]"
      ]
     },
     "execution_count": 31,
     "metadata": {},
     "output_type": "execute_result"
    },
    {
     "data": {
      "image/png": "[encoded data removed]",
      "text/plain": [
       "<Figure size 432x288 with 1 Axes>"
      ]
     },
     "metadata": {
      "needs_background": "light"
     },
     "output_type": "display_data"
    }
   ],
   "source": [
    "plt.plot(data_in,data_out, \"k.\")"
   ]
  },
  {
   "cell_type": "markdown",
   "id": "a8c0b6db-24c6-4e97-b3e6-db8c6a239b93",
   "metadata": {},
   "source": [
    "# Training the neuron "
   ]
  },
  {
   "cell_type": "code",
   "execution_count": 33,
   "id": "2bb25220-db2e-440e-891e-5dd76792f8f5",
   "metadata": {},
   "outputs": [
    {
     "data": {
      "text/plain": [
       "(5.0, 20.354332731078305)"
      ]
     },
     "execution_count": 33,
     "metadata": {},
     "output_type": "execute_result"
    }
   ],
   "source": [
    "# real world input/output data we have manufactured above\n",
    "data_in[4], data_out[4]"
   ]
  },
  {
   "cell_type": "code",
   "execution_count": 37,
   "id": "acb63cbe-8e42-4745-8cf3-fec6a013a273",
   "metadata": {},
   "outputs": [
    {
     "data": {
      "text/plain": [
       "5.0"
      ]
     },
     "execution_count": 37,
     "metadata": {},
     "output_type": "execute_result"
    }
   ],
   "source": [
    "#lets put this into our function for firing the neuron \n",
    "#initial weights\n",
    "w = np.array([0.0,1.0])\n",
    "fire_neuron(np.array([1.0,data_in[4]]),w,phi)\n",
    "\n",
    "# the goal is to create an algorithm that updates w to move the predicition(output) towards the real output"
   ]
  },
  {
   "cell_type": "code",
   "execution_count": 38,
   "id": "38998f47-06b9-4635-82a4-be44005a7aa0",
   "metadata": {},
   "outputs": [
    {
     "data": {
      "text/plain": [
       "20.0"
      ]
     },
     "execution_count": 38,
     "metadata": {},
     "output_type": "execute_result"
    }
   ],
   "source": [
    "# lets change the w value to 4 and check if this comes closer to the real otput as above\n",
    "# we need to change the weights number(w) somehow systematically so that looking at the x and y values from the real world data. Thats the goal of training.\n",
    "w = np.array([0.0,4.0])\n",
    "fire_neuron(np.array([1.0,data_in[4]]),w,phi)\n",
    "# this result is 20. If we check the data out numbers above the index[4] number on output is 20.354 which would coincide with the the weight being 4 times the input data\n"
   ]
  },
  {
   "cell_type": "code",
   "execution_count": null,
   "id": "86b32b61-6812-4a12-8014-af6c875d5b2a",
   "metadata": {},
   "outputs": [],
   "source": []
  }
 ],
 "metadata": {
  "kernelspec": {
   "display_name": "Python 3",
   "language": "python",
   "name": "python3"
  },
  "language_info": {
   "codemirror_mode": {
    "name": "ipython",
    "version": 3
   },
   "file_extension": ".py",
   "mimetype": "text/x-python",
   "name": "python",
   "nbconvert_exporter": "python",
   "pygments_lexer": "ipython3",
   "version": "3.8.8"
  }
 },
 "nbformat": 4,
 "nbformat_minor": 5
}
